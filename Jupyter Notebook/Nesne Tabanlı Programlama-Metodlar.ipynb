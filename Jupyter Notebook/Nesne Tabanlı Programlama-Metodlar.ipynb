{
 "cells": [
  {
   "cell_type": "code",
   "execution_count": 6,
   "metadata": {},
   "outputs": [],
   "source": [
    "class Yazılımcı():\n",
    "    def __init__(self,isim,soyisim,numara,maaş,diller):\n",
    "        self.isim=isim\n",
    "        self.soyisim=soyisim\n",
    "        self.numara=numara\n",
    "        self.maaş=maaş\n",
    "        self.diller=diller\n",
    "    def bilgileriGöster(self):\n",
    "        print(\"\"\"\n",
    "        Yazılımcının özellikleri:\n",
    "        \n",
    "        İsim: {} \n",
    "        Soysim: {} \n",
    "        Numara: {} \n",
    "        Maaş: {} \n",
    "        Diller: {}\n",
    "        \n",
    "        \"\"\".format(self.isim,self.soyisim,self.numara,self.maaş,self.diller))\n",
    "    def zamYap(self,miktar):\n",
    "        print(\"Zam yapılıyor\")\n",
    "        self.maaş +=miktar\n",
    "    def dilEkle(self,dil):\n",
    "        print(\"Dil ekleniyor\")\n",
    "        self.diller.append(dil)\n",
    "    "
   ]
  },
  {
   "cell_type": "code",
   "execution_count": 8,
   "metadata": {},
   "outputs": [],
   "source": [
    "yazılımcı = Yazılımcı(\"Can\",\"Kurt\",17247044,12000,[\"Arduino\",\"Python\",\"Java\",\"C#\"])"
   ]
  },
  {
   "cell_type": "code",
   "execution_count": 9,
   "metadata": {},
   "outputs": [
    {
     "name": "stdout",
     "output_type": "stream",
     "text": [
      "\n",
      "        Yazılımcının özellikleri:\n",
      "        \n",
      "        İsim: Can \n",
      "        Soysim: Kurt \n",
      "        Numara: 17247044 \n",
      "        Maaş: 12000 \n",
      "        Diller: ['Arduino', 'Python', 'Java', 'C#']\n",
      "        \n",
      "        \n"
     ]
    }
   ],
   "source": [
    "yazılımcı.bilgileriGöster()"
   ]
  },
  {
   "cell_type": "code",
   "execution_count": 10,
   "metadata": {},
   "outputs": [
    {
     "name": "stdout",
     "output_type": "stream",
     "text": [
      "Dil ekleniyor\n"
     ]
    }
   ],
   "source": [
    "yazılımcı.dilEkle(\"PHP\")"
   ]
  },
  {
   "cell_type": "code",
   "execution_count": 11,
   "metadata": {},
   "outputs": [
    {
     "name": "stdout",
     "output_type": "stream",
     "text": [
      "\n",
      "        Yazılımcının özellikleri:\n",
      "        \n",
      "        İsim: Can \n",
      "        Soysim: Kurt \n",
      "        Numara: 17247044 \n",
      "        Maaş: 12000 \n",
      "        Diller: ['Arduino', 'Python', 'Java', 'C#', 'PHP']\n",
      "        \n",
      "        \n"
     ]
    }
   ],
   "source": [
    "yazılımcı.bilgileriGöster()"
   ]
  },
  {
   "cell_type": "code",
   "execution_count": 12,
   "metadata": {},
   "outputs": [
    {
     "name": "stdout",
     "output_type": "stream",
     "text": [
      "Zam yapılıyor\n"
     ]
    }
   ],
   "source": [
    "yazılımcı.zamYap(5000)"
   ]
  },
  {
   "cell_type": "code",
   "execution_count": 13,
   "metadata": {},
   "outputs": [
    {
     "name": "stdout",
     "output_type": "stream",
     "text": [
      "\n",
      "        Yazılımcının özellikleri:\n",
      "        \n",
      "        İsim: Can \n",
      "        Soysim: Kurt \n",
      "        Numara: 17247044 \n",
      "        Maaş: 17000 \n",
      "        Diller: ['Arduino', 'Python', 'Java', 'C#', 'PHP']\n",
      "        \n",
      "        \n"
     ]
    }
   ],
   "source": [
    "yazılımcı.bilgileriGöster()"
   ]
  },
  {
   "cell_type": "code",
   "execution_count": null,
   "metadata": {},
   "outputs": [],
   "source": []
  }
 ],
 "metadata": {
  "kernelspec": {
   "display_name": "Python 3",
   "language": "python",
   "name": "python3"
  },
  "language_info": {
   "codemirror_mode": {
    "name": "ipython",
    "version": 3
   },
   "file_extension": ".py",
   "mimetype": "text/x-python",
   "name": "python",
   "nbconvert_exporter": "python",
   "pygments_lexer": "ipython3",
   "version": "3.8.3"
  }
 },
 "nbformat": 4,
 "nbformat_minor": 4
}
