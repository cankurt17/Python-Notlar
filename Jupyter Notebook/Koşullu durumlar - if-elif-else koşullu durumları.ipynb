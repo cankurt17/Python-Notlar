{
 "cells": [
  {
   "cell_type": "code",
   "execution_count": 1,
   "metadata": {},
   "outputs": [
    {
     "name": "stdout",
     "output_type": "stream",
     "text": [
      "İşlem giriniz8\n",
      "Yanlış işlem seçildi\n"
     ]
    }
   ],
   "source": [
    "islem = input(\"İşlem giriniz\")\n",
    "\n",
    "if islem == \"1\":\n",
    "    print(\"İşlem 1 seçildi\")\n",
    "elif islem == \"2\":\n",
    "    print(\"İşlem 2 seçildi\")\n",
    "elif islem == \"3\":\n",
    "    print(\"İşlem 3 seçildi\")\n",
    "elif islem == \"4\":\n",
    "    print(\"İşlem 4 seçildi\") \n",
    "else:\n",
    "    print(\"Yanlış işlem seçildi\")"
   ]
  },
  {
   "cell_type": "code",
   "execution_count": 2,
   "metadata": {},
   "outputs": [
    {
     "name": "stdout",
     "output_type": "stream",
     "text": [
      "İşlem giriniz2\n",
      "İşlem 2 seçildi\n"
     ]
    }
   ],
   "source": [
    "islem = input(\"İşlem giriniz\")\n",
    "\n",
    "if islem == \"1\":\n",
    "    print(\"İşlem 1 seçildi\")\n",
    "elif islem == \"2\":\n",
    "    print(\"İşlem 2 seçildi\")\n",
    "elif islem == \"3\":\n",
    "    print(\"İşlem 3 seçildi\")\n",
    "elif islem == \"4\":\n",
    "    print(\"İşlem 4 seçildi\") \n",
    "else:\n",
    "    print(\"Yanlış işlem seçildi\")\n",
    "    "
   ]
  },
  {
   "cell_type": "code",
   "execution_count": 3,
   "metadata": {},
   "outputs": [
    {
     "name": "stdout",
     "output_type": "stream",
     "text": [
      "İşlem giriniz3\n",
      "İşlem 3 seçildi\n"
     ]
    }
   ],
   "source": [
    "islem = input(\"İşlem giriniz\")\n",
    "\n",
    "if islem == \"1\":\n",
    "    print(\"İşlem 1 seçildi\")\n",
    "elif islem == \"2\":\n",
    "    print(\"İşlem 2 seçildi\")\n",
    "elif islem == \"3\":\n",
    "    print(\"İşlem 3 seçildi\")\n",
    "elif islem == \"4\":\n",
    "    print(\"İşlem 4 seçildi\") \n",
    "else:\n",
    "    print(\"Yanlış işlem seçildi\")"
   ]
  },
  {
   "cell_type": "code",
   "execution_count": 4,
   "metadata": {},
   "outputs": [
    {
     "name": "stdout",
     "output_type": "stream",
     "text": [
      "İşlem giriniz1\n",
      "İşlem 1 seçildi\n"
     ]
    }
   ],
   "source": [
    "islem = input(\"İşlem giriniz\")\n",
    "\n",
    "if islem == \"1\":\n",
    "    print(\"İşlem 1 seçildi\")\n",
    "elif islem == \"2\":\n",
    "    print(\"İşlem 2 seçildi\")\n",
    "elif islem == \"3\":\n",
    "    print(\"İşlem 3 seçildi\")\n",
    "elif islem == \"4\":\n",
    "    print(\"İşlem 4 seçildi\") \n",
    "else:\n",
    "    print(\"Yanlış işlem seçildi\")"
   ]
  },
  {
   "cell_type": "code",
   "execution_count": null,
   "metadata": {},
   "outputs": [],
   "source": []
  }
 ],
 "metadata": {
  "kernelspec": {
   "display_name": "Python 3",
   "language": "python",
   "name": "python3"
  },
  "language_info": {
   "codemirror_mode": {
    "name": "ipython",
    "version": 3
   },
   "file_extension": ".py",
   "mimetype": "text/x-python",
   "name": "python",
   "nbconvert_exporter": "python",
   "pygments_lexer": "ipython3",
   "version": "3.8.3"
  }
 },
 "nbformat": 4,
 "nbformat_minor": 4
}
