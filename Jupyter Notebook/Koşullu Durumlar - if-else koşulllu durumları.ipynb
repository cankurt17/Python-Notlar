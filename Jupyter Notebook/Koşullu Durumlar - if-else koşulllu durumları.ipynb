{
 "cells": [
  {
   "cell_type": "code",
   "execution_count": 1,
   "metadata": {},
   "outputs": [
    {
     "name": "stdout",
     "output_type": "stream",
     "text": [
      "0 dan büyük sayı giriniz:-1\n",
      "yanlış\n"
     ]
    }
   ],
   "source": [
    "a = int(input(\"0 dan büyük sayı giriniz:\"))\n",
    "if(a<0):\n",
    "    print(\"yanlış\")\n",
    "else:\n",
    "    print(\"doğru\")"
   ]
  },
  {
   "cell_type": "code",
   "execution_count": 2,
   "metadata": {},
   "outputs": [
    {
     "name": "stdout",
     "output_type": "stream",
     "text": [
      "0 dan büyük sayı giriniz:2\n",
      "doğru\n"
     ]
    }
   ],
   "source": [
    "a = int(input(\"0 dan büyük sayı giriniz:\"))\n",
    "if(a<0):\n",
    "    print(\"yanlış\")\n",
    "else:\n",
    "    print(\"doğru\")"
   ]
  },
  {
   "cell_type": "code",
   "execution_count": 4,
   "metadata": {},
   "outputs": [
    {
     "name": "stdout",
     "output_type": "stream",
     "text": [
      "0 dan büyük sayı giriniz:23\n",
      "doğru\n"
     ]
    }
   ],
   "source": [
    "a = int(input(\"0 dan büyük sayı giriniz:\"))\n",
    "if(a<0):\n",
    "    print(\"yanlış\")\n",
    "else:\n",
    "    print(\"doğru\")"
   ]
  },
  {
   "cell_type": "code",
   "execution_count": 5,
   "metadata": {},
   "outputs": [
    {
     "name": "stdout",
     "output_type": "stream",
     "text": [
      "0 dan büyük sayı giriniz:231\n",
      "tamamlandı\n"
     ]
    }
   ],
   "source": [
    "a = int(input(\"0 dan büyük sayı giriniz:\"))\n",
    "if(a<0):\n",
    "    print(\"yanlış\")\n",
    "print(\"tamamlandı\")"
   ]
  },
  {
   "cell_type": "code",
   "execution_count": 6,
   "metadata": {},
   "outputs": [
    {
     "ename": "SyntaxError",
     "evalue": "invalid syntax (<ipython-input-6-457d427a741b>, line 4)",
     "output_type": "error",
     "traceback": [
      "\u001b[1;36m  File \u001b[1;32m\"<ipython-input-6-457d427a741b>\"\u001b[1;36m, line \u001b[1;32m4\u001b[0m\n\u001b[1;33m    print(\"tamamlandı\")132\u001b[0m\n\u001b[1;37m                       ^\u001b[0m\n\u001b[1;31mSyntaxError\u001b[0m\u001b[1;31m:\u001b[0m invalid syntax\n"
     ]
    }
   ],
   "source": [
    "a = int(input(\"0 dan büyük sayı giriniz:\"))\n",
    "if(a<0):\n",
    "    print(\"yanlış\")\n",
    "print(\"tamamlandı\")132"
   ]
  },
  {
   "cell_type": "code",
   "execution_count": 7,
   "metadata": {},
   "outputs": [
    {
     "name": "stdout",
     "output_type": "stream",
     "text": [
      "0 dan büyük sayı giriniz:123\n",
      "tamamlandı\n"
     ]
    }
   ],
   "source": [
    "a = int(input(\"0 dan büyük sayı giriniz:\"))\n",
    "if(a<0):\n",
    "    print(\"yanlış\")\n",
    "print(\"tamamlandı\")"
   ]
  },
  {
   "cell_type": "code",
   "execution_count": 8,
   "metadata": {},
   "outputs": [
    {
     "name": "stdout",
     "output_type": "stream",
     "text": [
      "0 dan büyük sayı giriniz:-8\n",
      "yanlış\n",
      "tamamlandı\n"
     ]
    }
   ],
   "source": [
    "a = int(input(\"0 dan büyük sayı giriniz:\"))\n",
    "if(a<0):\n",
    "    print(\"yanlış\")\n",
    "print(\"tamamlandı\")"
   ]
  },
  {
   "cell_type": "code",
   "execution_count": 9,
   "metadata": {},
   "outputs": [
    {
     "name": "stdout",
     "output_type": "stream",
     "text": [
      "sayı giriniz:85\n",
      "pozitif\n"
     ]
    }
   ],
   "source": [
    "a = int(input(\"sayı giriniz:\"))\n",
    "if(a<0):\n",
    "    print(\"Negatif\")\n",
    "elif a == 0:\n",
    "    print(\"Sıfır\")\n",
    "else :\n",
    "    print(\"pozitif\")"
   ]
  },
  {
   "cell_type": "code",
   "execution_count": 10,
   "metadata": {},
   "outputs": [
    {
     "name": "stdout",
     "output_type": "stream",
     "text": [
      "sayı giriniz:-9\n",
      "Negatif\n"
     ]
    }
   ],
   "source": [
    "a = int(input(\"sayı giriniz:\"))\n",
    "if(a<0):\n",
    "    print(\"Negatif\")\n",
    "elif a == 0:\n",
    "    print(\"Sıfır\")\n",
    "else :\n",
    "    print(\"pozitif\")"
   ]
  },
  {
   "cell_type": "code",
   "execution_count": 11,
   "metadata": {},
   "outputs": [
    {
     "name": "stdout",
     "output_type": "stream",
     "text": [
      "sayı giriniz:0\n",
      "Sıfır\n"
     ]
    }
   ],
   "source": [
    "a = int(input(\"sayı giriniz:\"))\n",
    "if(a<0):\n",
    "    print(\"Negatif\")\n",
    "elif a == 0:\n",
    "    print(\"Sıfır\")\n",
    "else :\n",
    "    print(\"pozitif\")"
   ]
  },
  {
   "cell_type": "code",
   "execution_count": 12,
   "metadata": {},
   "outputs": [
    {
     "name": "stdout",
     "output_type": "stream",
     "text": [
      "sayı giriniz:1\n",
      "pozitif\n"
     ]
    }
   ],
   "source": [
    "a = int(input(\"sayı giriniz:\"))\n",
    "if(a<0):\n",
    "    print(\"Negatif\")\n",
    "elif a == 0:\n",
    "    print(\"Sıfır\")\n",
    "else :\n",
    "    print(\"pozitif\")"
   ]
  },
  {
   "cell_type": "code",
   "execution_count": null,
   "metadata": {},
   "outputs": [],
   "source": []
  }
 ],
 "metadata": {
  "kernelspec": {
   "display_name": "Python 3",
   "language": "python",
   "name": "python3"
  },
  "language_info": {
   "codemirror_mode": {
    "name": "ipython",
    "version": 3
   },
   "file_extension": ".py",
   "mimetype": "text/x-python",
   "name": "python",
   "nbconvert_exporter": "python",
   "pygments_lexer": "ipython3",
   "version": "3.8.3"
  }
 },
 "nbformat": 4,
 "nbformat_minor": 4
}
