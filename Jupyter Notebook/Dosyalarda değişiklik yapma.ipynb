{
 "cells": [
  {
   "cell_type": "code",
   "execution_count": 1,
   "metadata": {},
   "outputs": [
    {
     "name": "stdout",
     "output_type": "stream",
     "text": [
      "Can Kurt\n",
      "İbrahim Uğur\n",
      "Mustafa Sarıkaya\n",
      "Özal Boyraz\n",
      "Ufuk Akkuş\n",
      "\n"
     ]
    }
   ],
   "source": [
    "with open(\"bilgiler.txt\",\"r+\",encoding=\"utf-8\")as file:\n",
    "    print(file.read())"
   ]
  },
  {
   "cell_type": "code",
   "execution_count": 2,
   "metadata": {},
   "outputs": [
    {
     "name": "stdout",
     "output_type": "stream",
     "text": [
      "Uğur\n",
      "Mustafa Sarıkaya\n",
      "Özal Boyraz\n",
      "Ufuk Akkuş\n",
      "\n"
     ]
    }
   ],
   "source": [
    "with open(\"bilgiler.txt\",\"r+\",encoding=\"utf-8\")as file:\n",
    "    file.seek(9)\n",
    "    file.write(\"burdayım\")\n",
    "    print(file.read())"
   ]
  },
  {
   "cell_type": "code",
   "execution_count": 3,
   "metadata": {},
   "outputs": [
    {
     "name": "stdout",
     "output_type": "stream",
     "text": [
      "Can Kurt\n",
      "burdayımUğur\n",
      "Mustafa Sarıkaya\n",
      "Özal Boyraz\n",
      "Ufuk Akkuş\n",
      "\n"
     ]
    }
   ],
   "source": [
    "with open(\"bilgiler.txt\",\"r+\",encoding=\"utf-8\")as file:  \n",
    "    print(file.read())"
   ]
  },
  {
   "cell_type": "code",
   "execution_count": 4,
   "metadata": {},
   "outputs": [
    {
     "name": "stdout",
     "output_type": "stream",
     "text": [
      "Can Kurt\n",
      "İbrahim Uğur\n",
      "Mustafa Sarıkaya\n",
      "Özal Boyraz\n",
      "Ufuk Akkuş\n",
      "\n"
     ]
    }
   ],
   "source": [
    "with open(\"bilgiler.txt\",\"r+\",encoding=\"utf-8\")as file:  \n",
    "    print(file.read())"
   ]
  },
  {
   "cell_type": "code",
   "execution_count": 6,
   "metadata": {},
   "outputs": [],
   "source": [
    "with open(\"bilgiler.txt\",\"a\",encoding=\"utf-8\")as file:  \n",
    "    file.write(\"Ali Dolgun\\n\")"
   ]
  },
  {
   "cell_type": "code",
   "execution_count": 9,
   "metadata": {},
   "outputs": [
    {
     "name": "stdout",
     "output_type": "stream",
     "text": [
      "Can Kurt\n",
      "İbrahim Uğur\n",
      "Mustafa Sarıkaya\n",
      "Özal Boyraz\n",
      "Ufuk Akkuş \n",
      "Ali Dolgun\n",
      "\n"
     ]
    }
   ],
   "source": [
    "with open(\"bilgiler.txt\",\"r+\",encoding=\"utf-8\")as file:  \n",
    "    print(file.read())"
   ]
  },
  {
   "cell_type": "code",
   "execution_count": 13,
   "metadata": {},
   "outputs": [
    {
     "name": "stdout",
     "output_type": "stream",
     "text": [
      "\n"
     ]
    }
   ],
   "source": [
    "with open(\"bilgiler.txt\",\"r+\",encoding=\"utf-8\")as file:  \n",
    "    içerik = file.read()\n",
    "    içerik = \"Ali Dolgun\\n\" + içerik\n",
    "    file.write(içerik)\n",
    "    print(file.read())"
   ]
  },
  {
   "cell_type": "code",
   "execution_count": 17,
   "metadata": {},
   "outputs": [],
   "source": [
    "with open(\"bilgiler.txt\",\"r+\",encoding=\"utf-8\")as file:  \n",
    "    içerik = file.read()\n",
    "    içerik = \"Ali Dolgun\\n\" + içerik\n",
    "    file.seek(0)\n",
    "    file.write(içerik)"
   ]
  },
  {
   "cell_type": "code",
   "execution_count": 18,
   "metadata": {},
   "outputs": [
    {
     "name": "stdout",
     "output_type": "stream",
     "text": [
      "Ali Dolgun\n",
      "Can Kurt\n",
      "İbrahim Uğur\n",
      "Mustafa Sarıkaya\n",
      "Özal Boyraz\n",
      "Ufuk Akkuş \n",
      "Ali Dolgun\n"
     ]
    }
   ],
   "source": [
    "with open(\"bilgiler.txt\",\"r+\",encoding=\"utf-8\")as file:  \n",
    "    print(file.read())"
   ]
  },
  {
   "cell_type": "code",
   "execution_count": 19,
   "metadata": {},
   "outputs": [
    {
     "name": "stdout",
     "output_type": "stream",
     "text": [
      "['Ali Dolgun\\n', 'Can Kurt\\n', 'İbrahim Uğur\\n', 'Mustafa Sarıkaya\\n', 'Özal Boyraz\\n', 'Ufuk Akkuş \\n', 'Ali Dolgun']\n"
     ]
    }
   ],
   "source": [
    "with open(\"bilgiler.txt\",\"r+\",encoding=\"utf-8\")as file:  \n",
    "    liste = file.readlines()\n",
    "    print(liste)"
   ]
  },
  {
   "cell_type": "code",
   "execution_count": 21,
   "metadata": {},
   "outputs": [],
   "source": [
    "with open(\"bilgiler.txt\",\"r+\",encoding=\"utf-8\")as file:  \n",
    "    liste = file.readlines() \n",
    "    file.seek(0)\n",
    "    for i in liste:\n",
    "        file.write(i)"
   ]
  },
  {
   "cell_type": "code",
   "execution_count": 22,
   "metadata": {},
   "outputs": [
    {
     "name": "stdout",
     "output_type": "stream",
     "text": [
      "Ali Dolgun\n",
      "Can Kurt\n",
      "İbrahim Uğur\n",
      "Mustafa Sarıkaya\n",
      "Özal Boyraz\n",
      "Ufuk Akkuş \n",
      "Ali Dolgun\n"
     ]
    }
   ],
   "source": [
    "with open(\"bilgiler.txt\",\"r+\",encoding=\"utf-8\")as file:  \n",
    "    print(file.read())"
   ]
  },
  {
   "cell_type": "code",
   "execution_count": 25,
   "metadata": {},
   "outputs": [],
   "source": [
    "with open(\"bilgiler.txt\",\"r+\",encoding=\"utf-8\")as file:  \n",
    "    liste = file.readlines() \n",
    "    liste.insert(4,\"Can Kurt\\n\")\n",
    "    file.seek(0)\n",
    "    for i in liste:\n",
    "        file.write(i)"
   ]
  },
  {
   "cell_type": "code",
   "execution_count": 26,
   "metadata": {},
   "outputs": [
    {
     "name": "stdout",
     "output_type": "stream",
     "text": [
      "Can Kurt\n",
      "İbrahim Uğur\n",
      "Mustafa Sarıkaya\n",
      "Özal Boyraz\n",
      "Can Kurt\n",
      "Ufuk Akkuş \n",
      "Ali Dolgun\n"
     ]
    }
   ],
   "source": [
    "with open(\"bilgiler.txt\",\"r+\",encoding=\"utf-8\")as file:  \n",
    "    print(file.read())"
   ]
  },
  {
   "cell_type": "code",
   "execution_count": 29,
   "metadata": {},
   "outputs": [],
   "source": [
    "with open(\"bilgiler.txt\",\"r+\",encoding=\"utf-8\")as file:  \n",
    "    liste = file.readlines() \n",
    "    liste.insert(5,\"İbrahim Uğur\\n\")\n",
    "    file.seek(0)\n",
    "    file.writelines(liste)"
   ]
  },
  {
   "cell_type": "code",
   "execution_count": 30,
   "metadata": {},
   "outputs": [
    {
     "name": "stdout",
     "output_type": "stream",
     "text": [
      "Can Kurt\n",
      "İbrahim Uğur\n",
      "Mustafa Sarıkaya\n",
      "Özal Boyraz\n",
      "Can Kurt\n",
      "İbrahim Uğur\n",
      "Ufuk Akkuş \n",
      "Ali Dolgun\n"
     ]
    }
   ],
   "source": [
    "with open(\"bilgiler.txt\",\"r+\",encoding=\"utf-8\")as file:  \n",
    "    print(file.read())"
   ]
  },
  {
   "cell_type": "code",
   "execution_count": null,
   "metadata": {},
   "outputs": [],
   "source": []
  }
 ],
 "metadata": {
  "kernelspec": {
   "display_name": "Python 3",
   "language": "python",
   "name": "python3"
  },
  "language_info": {
   "codemirror_mode": {
    "name": "ipython",
    "version": 3
   },
   "file_extension": ".py",
   "mimetype": "text/x-python",
   "name": "python",
   "nbconvert_exporter": "python",
   "pygments_lexer": "ipython3",
   "version": "3.8.3"
  }
 },
 "nbformat": 4,
 "nbformat_minor": 4
}
