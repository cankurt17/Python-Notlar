{
 "cells": [
  {
   "cell_type": "code",
   "execution_count": 1,
   "metadata": {},
   "outputs": [],
   "source": [
    "class Kitap():\n",
    "    pass"
   ]
  },
  {
   "cell_type": "code",
   "execution_count": 2,
   "metadata": {},
   "outputs": [],
   "source": [
    "kitap = Kitap() ## init metodu"
   ]
  },
  {
   "cell_type": "code",
   "execution_count": 3,
   "metadata": {},
   "outputs": [
    {
     "name": "stdout",
     "output_type": "stream",
     "text": [
      "<__main__.Kitap object at 0x0000016DBBDA2A60>\n"
     ]
    }
   ],
   "source": [
    "print(kitap) ## str metodu"
   ]
  },
  {
   "cell_type": "code",
   "execution_count": 4,
   "metadata": {},
   "outputs": [
    {
     "ename": "TypeError",
     "evalue": "object of type 'Kitap' has no len()",
     "output_type": "error",
     "traceback": [
      "\u001b[1;31m---------------------------------------------------------------------------\u001b[0m",
      "\u001b[1;31mTypeError\u001b[0m                                 Traceback (most recent call last)",
      "\u001b[1;32m<ipython-input-4-cc9543f763ea>\u001b[0m in \u001b[0;36m<module>\u001b[1;34m\u001b[0m\n\u001b[1;32m----> 1\u001b[1;33m \u001b[0mlen\u001b[0m\u001b[1;33m(\u001b[0m\u001b[0mkitap\u001b[0m\u001b[1;33m)\u001b[0m \u001b[1;31m##len metodu\u001b[0m\u001b[1;33m\u001b[0m\u001b[1;33m\u001b[0m\u001b[0m\n\u001b[0m",
      "\u001b[1;31mTypeError\u001b[0m: object of type 'Kitap' has no len()"
     ]
    }
   ],
   "source": [
    "len(kitap) ##len metodu"
   ]
  },
  {
   "cell_type": "code",
   "execution_count": 5,
   "metadata": {},
   "outputs": [],
   "source": [
    "del kitap ## del metodu"
   ]
  },
  {
   "cell_type": "code",
   "execution_count": 8,
   "metadata": {},
   "outputs": [],
   "source": [
    "class Kitap():\n",
    "    def __init__(self,isim,yazar,sayfa,tür):\n",
    "        print(\"İnit fonksiyonu\")\n",
    "        self.isim=isim\n",
    "        self.yazar=yazar\n",
    "        self.sayfa=sayfa\n",
    "        self.tür=tür"
   ]
  },
  {
   "cell_type": "code",
   "execution_count": 9,
   "metadata": {},
   "outputs": [
    {
     "name": "stdout",
     "output_type": "stream",
     "text": [
      "İnit fonksiyonu\n"
     ]
    }
   ],
   "source": [
    "kitap = Kitap(\"Silahşörler\",\"Can Kurt\",130,\"Roman\")"
   ]
  },
  {
   "cell_type": "code",
   "execution_count": 19,
   "metadata": {},
   "outputs": [],
   "source": [
    "class Kitap():\n",
    "    def __init__(self,isim,yazar,sayfa,tür):\n",
    "        print(\"İnit fonksiyonu\")\n",
    "        self.isim=isim\n",
    "        self.yazar=yazar\n",
    "        self.sayfa=sayfa\n",
    "        self.tür=tür\n",
    "    def __str__(self):\n",
    "        return  \"\"\" \n",
    "        İsim: {} \n",
    "        Yazar: {} \n",
    "        Sayfa: {} \n",
    "        Tür: {}  \n",
    "        \"\"\".format(self.isim,self.yazar,self.sayfa,self.tür) "
   ]
  },
  {
   "cell_type": "code",
   "execution_count": 20,
   "metadata": {},
   "outputs": [
    {
     "name": "stdout",
     "output_type": "stream",
     "text": [
      "İnit fonksiyonu\n"
     ]
    }
   ],
   "source": [
    "kitap = Kitap(\"Silahşörler\",\"Can Kurt\",130,\"Roman\")"
   ]
  },
  {
   "cell_type": "code",
   "execution_count": 21,
   "metadata": {},
   "outputs": [
    {
     "name": "stdout",
     "output_type": "stream",
     "text": [
      " \n",
      "        İsim: Silahşörler \n",
      "        Yazar: Can Kurt \n",
      "        Sayfa: 130 \n",
      "        Tür: Roman  \n",
      "        \n"
     ]
    }
   ],
   "source": [
    "print(kitap)"
   ]
  },
  {
   "cell_type": "code",
   "execution_count": 22,
   "metadata": {},
   "outputs": [],
   "source": [
    "class Kitap():\n",
    "    def __init__(self,isim,yazar,sayfa,tür):\n",
    "        print(\"İnit fonksiyonu\")\n",
    "        self.isim=isim\n",
    "        self.yazar=yazar\n",
    "        self.sayfa=sayfa\n",
    "        self.tür=tür\n",
    "    def __str__(self):\n",
    "        return  \"\"\" \n",
    "        İsim: {} \n",
    "        Yazar: {} \n",
    "        Sayfa: {} \n",
    "        Tür: {}  \n",
    "        \"\"\".format(self.isim,self.yazar,self.sayfa,self.tür) \n",
    "    def __len__(self):\n",
    "        return self.sayfa"
   ]
  },
  {
   "cell_type": "code",
   "execution_count": 23,
   "metadata": {},
   "outputs": [
    {
     "name": "stdout",
     "output_type": "stream",
     "text": [
      "İnit fonksiyonu\n"
     ]
    }
   ],
   "source": [
    "kitap = Kitap(\"Silahşörler\",\"Can Kurt\",130,\"Roman\")"
   ]
  },
  {
   "cell_type": "code",
   "execution_count": 24,
   "metadata": {},
   "outputs": [
    {
     "data": {
      "text/plain": [
       "130"
      ]
     },
     "execution_count": 24,
     "metadata": {},
     "output_type": "execute_result"
    }
   ],
   "source": [
    "len(kitap)"
   ]
  },
  {
   "cell_type": "code",
   "execution_count": 25,
   "metadata": {},
   "outputs": [
    {
     "data": {
      "text/plain": [
       "<__main__.Kitap at 0x16dbcd31d60>"
      ]
     },
     "execution_count": 25,
     "metadata": {},
     "output_type": "execute_result"
    }
   ],
   "source": [
    "kitap"
   ]
  },
  {
   "cell_type": "code",
   "execution_count": 29,
   "metadata": {},
   "outputs": [],
   "source": [
    "class Kitap():\n",
    "    def __init__(self,isim,yazar,sayfa,tür):\n",
    "        print(\"İnit fonksiyonu\")\n",
    "        self.isim=isim\n",
    "        self.yazar=yazar\n",
    "        self.sayfa=sayfa\n",
    "        self.tür=tür\n",
    "    def __str__(self):\n",
    "        return  \"\"\" \n",
    "        İsim: {} \n",
    "        Yazar: {} \n",
    "        Sayfa: {} \n",
    "        Tür: {}  \n",
    "        \"\"\".format(self.isim,self.yazar,self.sayfa,self.tür) \n",
    "    def __len__(self):\n",
    "        return self.sayfa\n",
    "    def __del__(self):\n",
    "        print(\"Kitap siliniyor\")"
   ]
  },
  {
   "cell_type": "code",
   "execution_count": 30,
   "metadata": {},
   "outputs": [
    {
     "name": "stdout",
     "output_type": "stream",
     "text": [
      "İnit fonksiyonu\n"
     ]
    }
   ],
   "source": [
    "kitap = Kitap(\"Silahşörler\",\"Can Kurt\",130,\"Roman\")"
   ]
  },
  {
   "cell_type": "code",
   "execution_count": 31,
   "metadata": {},
   "outputs": [
    {
     "name": "stdout",
     "output_type": "stream",
     "text": [
      "Kitap siliniyor\n"
     ]
    }
   ],
   "source": [
    "del kitap"
   ]
  },
  {
   "cell_type": "code",
   "execution_count": 32,
   "metadata": {},
   "outputs": [
    {
     "ename": "NameError",
     "evalue": "name 'kitap' is not defined",
     "output_type": "error",
     "traceback": [
      "\u001b[1;31m---------------------------------------------------------------------------\u001b[0m",
      "\u001b[1;31mNameError\u001b[0m                                 Traceback (most recent call last)",
      "\u001b[1;32m<ipython-input-32-1a7f1cf5fe3f>\u001b[0m in \u001b[0;36m<module>\u001b[1;34m\u001b[0m\n\u001b[1;32m----> 1\u001b[1;33m \u001b[0mkitap\u001b[0m\u001b[1;33m\u001b[0m\u001b[1;33m\u001b[0m\u001b[0m\n\u001b[0m",
      "\u001b[1;31mNameError\u001b[0m: name 'kitap' is not defined"
     ]
    }
   ],
   "source": [
    "kitap"
   ]
  },
  {
   "cell_type": "code",
   "execution_count": null,
   "metadata": {},
   "outputs": [],
   "source": []
  }
 ],
 "metadata": {
  "kernelspec": {
   "display_name": "Python 3",
   "language": "python",
   "name": "python3"
  },
  "language_info": {
   "codemirror_mode": {
    "name": "ipython",
    "version": 3
   },
   "file_extension": ".py",
   "mimetype": "text/x-python",
   "name": "python",
   "nbconvert_exporter": "python",
   "pygments_lexer": "ipython3",
   "version": "3.8.3"
  }
 },
 "nbformat": 4,
 "nbformat_minor": 4
}
