{
 "cells": [
  {
   "cell_type": "code",
   "execution_count": 1,
   "metadata": {},
   "outputs": [
    {
     "name": "stdout",
     "output_type": "stream",
     "text": [
      "Hata!\n"
     ]
    }
   ],
   "source": [
    "try:\n",
    "    a=int(\"asdasdsda\")\n",
    "    print(\"Burdayım\")\n",
    "except:\n",
    "    print(\"Hata!\")\n",
    "    "
   ]
  },
  {
   "cell_type": "code",
   "execution_count": 2,
   "metadata": {},
   "outputs": [
    {
     "name": "stdout",
     "output_type": "stream",
     "text": [
      "sayı 1:1\n",
      "sayı 2:2\n",
      "0.5\n"
     ]
    }
   ],
   "source": [
    "try:\n",
    "    a=int(input(\"sayı 1:\"))\n",
    "    b=int(input(\"sayı 2:\"))\n",
    "    print(a/b)\n",
    "except ValueError:\n",
    "    print(\"Sayı giriniz\")\n",
    "except ZeroDivisionError:\n",
    "    print(\"Bir sayı 0 a bölünemez\")"
   ]
  },
  {
   "cell_type": "code",
   "execution_count": 3,
   "metadata": {},
   "outputs": [
    {
     "name": "stdout",
     "output_type": "stream",
     "text": [
      "sayı 1:1\n",
      "sayı 2:0\n",
      "Bir sayı 0 a bölünemez\n"
     ]
    }
   ],
   "source": [
    "try:\n",
    "    a=int(input(\"sayı 1:\"))\n",
    "    b=int(input(\"sayı 2:\"))\n",
    "    print(a/b)\n",
    "except ValueError:\n",
    "    print(\"Sayı giriniz\")\n",
    "except ZeroDivisionError:\n",
    "    print(\"Bir sayı 0 a bölünemez\")"
   ]
  },
  {
   "cell_type": "code",
   "execution_count": 4,
   "metadata": {},
   "outputs": [
    {
     "name": "stdout",
     "output_type": "stream",
     "text": [
      "sayı 1:23\n",
      "sayı 2:w\n",
      "Sayı giriniz\n"
     ]
    }
   ],
   "source": [
    "try:\n",
    "    a=int(input(\"sayı 1:\"))\n",
    "    b=int(input(\"sayı 2:\"))\n",
    "    print(a/b)\n",
    "except ValueError:\n",
    "    print(\"Sayı giriniz\")\n",
    "except ZeroDivisionError:\n",
    "    print(\"Bir sayı 0 a bölünemez\")"
   ]
  },
  {
   "cell_type": "code",
   "execution_count": 5,
   "metadata": {},
   "outputs": [
    {
     "name": "stdout",
     "output_type": "stream",
     "text": [
      "sayı 1:1\n",
      "sayı 2:2\n",
      "0.5\n",
      "finally\n"
     ]
    }
   ],
   "source": [
    "try:\n",
    "    a=int(input(\"sayı 1:\"))\n",
    "    b=int(input(\"sayı 2:\"))\n",
    "    print(a/b)\n",
    "except ValueError:\n",
    "    print(\"Sayı giriniz\")\n",
    "except ZeroDivisionError:\n",
    "    print(\"Bir sayı 0 a bölünemez\")\n",
    "finally:\n",
    "    print(\"finally\")"
   ]
  },
  {
   "cell_type": "code",
   "execution_count": 6,
   "metadata": {},
   "outputs": [
    {
     "name": "stdout",
     "output_type": "stream",
     "text": [
      "sayı 1:2\n",
      "sayı 2:f\n",
      "Sayı giriniz\n",
      "finally\n"
     ]
    }
   ],
   "source": [
    "try:\n",
    "    a=int(input(\"sayı 1:\"))\n",
    "    b=int(input(\"sayı 2:\"))\n",
    "    print(a/b)\n",
    "except ValueError:\n",
    "    print(\"Sayı giriniz\")\n",
    "except ZeroDivisionError:\n",
    "    print(\"Bir sayı 0 a bölünemez\")\n",
    "finally:\n",
    "    print(\"finally\")\n",
    "    "
   ]
  },
  {
   "cell_type": "code",
   "execution_count": 10,
   "metadata": {},
   "outputs": [],
   "source": [
    "def tersCevir(s):\n",
    "    if(type(s)!=str):\n",
    "        raise ValueError(\"Lütfen string değer giriniz.\")\n",
    "    else:\n",
    "        return s[::-1]"
   ]
  },
  {
   "cell_type": "code",
   "execution_count": 11,
   "metadata": {},
   "outputs": [
    {
     "name": "stdout",
     "output_type": "stream",
     "text": [
      "truknaC\n"
     ]
    }
   ],
   "source": [
    "print(tersCevir(\"Cankurt\"))"
   ]
  },
  {
   "cell_type": "code",
   "execution_count": 12,
   "metadata": {},
   "outputs": [
    {
     "ename": "ValueError",
     "evalue": "Lütfen string değer giriniz.",
     "output_type": "error",
     "traceback": [
      "\u001b[1;31m---------------------------------------------------------------------------\u001b[0m",
      "\u001b[1;31mValueError\u001b[0m                                Traceback (most recent call last)",
      "\u001b[1;32m<ipython-input-12-4b2448db1ce7>\u001b[0m in \u001b[0;36m<module>\u001b[1;34m\u001b[0m\n\u001b[1;32m----> 1\u001b[1;33m \u001b[0mprint\u001b[0m\u001b[1;33m(\u001b[0m\u001b[0mtersCevir\u001b[0m\u001b[1;33m(\u001b[0m\u001b[1;36m123\u001b[0m\u001b[1;33m)\u001b[0m\u001b[1;33m)\u001b[0m\u001b[1;33m\u001b[0m\u001b[1;33m\u001b[0m\u001b[0m\n\u001b[0m",
      "\u001b[1;32m<ipython-input-10-70eb7d2f86b6>\u001b[0m in \u001b[0;36mtersCevir\u001b[1;34m(s)\u001b[0m\n\u001b[0;32m      1\u001b[0m \u001b[1;32mdef\u001b[0m \u001b[0mtersCevir\u001b[0m\u001b[1;33m(\u001b[0m\u001b[0ms\u001b[0m\u001b[1;33m)\u001b[0m\u001b[1;33m:\u001b[0m\u001b[1;33m\u001b[0m\u001b[1;33m\u001b[0m\u001b[0m\n\u001b[0;32m      2\u001b[0m     \u001b[1;32mif\u001b[0m\u001b[1;33m(\u001b[0m\u001b[0mtype\u001b[0m\u001b[1;33m(\u001b[0m\u001b[0ms\u001b[0m\u001b[1;33m)\u001b[0m\u001b[1;33m!=\u001b[0m\u001b[0mstr\u001b[0m\u001b[1;33m)\u001b[0m\u001b[1;33m:\u001b[0m\u001b[1;33m\u001b[0m\u001b[1;33m\u001b[0m\u001b[0m\n\u001b[1;32m----> 3\u001b[1;33m         \u001b[1;32mraise\u001b[0m \u001b[0mValueError\u001b[0m\u001b[1;33m(\u001b[0m\u001b[1;34m\"Lütfen string değer giriniz.\"\u001b[0m\u001b[1;33m)\u001b[0m\u001b[1;33m\u001b[0m\u001b[1;33m\u001b[0m\u001b[0m\n\u001b[0m\u001b[0;32m      4\u001b[0m     \u001b[1;32melse\u001b[0m\u001b[1;33m:\u001b[0m\u001b[1;33m\u001b[0m\u001b[1;33m\u001b[0m\u001b[0m\n\u001b[0;32m      5\u001b[0m         \u001b[1;32mreturn\u001b[0m \u001b[0ms\u001b[0m\u001b[1;33m[\u001b[0m\u001b[1;33m:\u001b[0m\u001b[1;33m:\u001b[0m\u001b[1;33m-\u001b[0m\u001b[1;36m1\u001b[0m\u001b[1;33m]\u001b[0m\u001b[1;33m\u001b[0m\u001b[1;33m\u001b[0m\u001b[0m\n",
      "\u001b[1;31mValueError\u001b[0m: Lütfen string değer giriniz."
     ]
    }
   ],
   "source": [
    "print(tersCevir(123))"
   ]
  },
  {
   "cell_type": "code",
   "execution_count": null,
   "metadata": {},
   "outputs": [],
   "source": []
  }
 ],
 "metadata": {
  "kernelspec": {
   "display_name": "Python 3",
   "language": "python",
   "name": "python3"
  },
  "language_info": {
   "codemirror_mode": {
    "name": "ipython",
    "version": 3
   },
   "file_extension": ".py",
   "mimetype": "text/x-python",
   "name": "python",
   "nbconvert_exporter": "python",
   "pygments_lexer": "ipython3",
   "version": "3.8.3"
  }
 },
 "nbformat": 4,
 "nbformat_minor": 4
}
