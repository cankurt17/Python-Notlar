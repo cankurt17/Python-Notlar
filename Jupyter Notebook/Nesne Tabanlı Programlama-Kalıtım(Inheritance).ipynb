{
 "cells": [
  {
   "cell_type": "code",
   "execution_count": 3,
   "metadata": {},
   "outputs": [],
   "source": [
    "class Çalışan():\n",
    "    def __init__(self,isim,maaş,departman):\n",
    "        print(\"Çalışan sınıfının init fonksiyonu\")\n",
    "        \n",
    "        self.isim = isim\n",
    "        self.maaş=maaş\n",
    "        self.departman=departman\n",
    "    def bilgileriGöster(self):\n",
    "        print(\"\"\"\n",
    "        Yazılımcının özellikleri:\n",
    "        \n",
    "        İsim: {} \n",
    "        Maaş: {} \n",
    "        Departman: {}\n",
    "        \n",
    "        \"\"\".format(self.isim,self.maaş,self.departman))\n",
    "    def departmanDegistir(self,yeni_departman):\n",
    "        self.departman = yeni_departman"
   ]
  },
  {
   "cell_type": "code",
   "execution_count": 4,
   "metadata": {},
   "outputs": [],
   "source": [
    "class Yönetici(Çalışan):\n",
    "    pass"
   ]
  },
  {
   "cell_type": "code",
   "execution_count": 6,
   "metadata": {},
   "outputs": [
    {
     "name": "stdout",
     "output_type": "stream",
     "text": [
      "Çalışan sınıfının init fonksiyonu\n"
     ]
    }
   ],
   "source": [
    "yönetici = Yönetici(\"Can Kurt\",\"10000\",\"Yazılım\")"
   ]
  },
  {
   "cell_type": "code",
   "execution_count": 7,
   "metadata": {},
   "outputs": [
    {
     "data": {
      "text/plain": [
       "<bound method Çalışan.bilgileriGöster of <__main__.Yönetici object at 0x000001D578347910>>"
      ]
     },
     "execution_count": 7,
     "metadata": {},
     "output_type": "execute_result"
    }
   ],
   "source": [
    "yönetici.bilgileriGöster"
   ]
  },
  {
   "cell_type": "code",
   "execution_count": 8,
   "metadata": {},
   "outputs": [
    {
     "name": "stdout",
     "output_type": "stream",
     "text": [
      "\n",
      "        Yazılımcının özellikleri:\n",
      "        \n",
      "        İsim: Can Kurt \n",
      "        Maaş: 10000 \n",
      "        Departman: Yazılım\n",
      "        \n",
      "        \n"
     ]
    }
   ],
   "source": [
    "yönetici.bilgileriGöster()"
   ]
  },
  {
   "cell_type": "code",
   "execution_count": 9,
   "metadata": {},
   "outputs": [],
   "source": [
    "yönetici.departmanDegistir(\"Bilişim\")"
   ]
  },
  {
   "cell_type": "code",
   "execution_count": 10,
   "metadata": {},
   "outputs": [
    {
     "name": "stdout",
     "output_type": "stream",
     "text": [
      "\n",
      "        Yazılımcının özellikleri:\n",
      "        \n",
      "        İsim: Can Kurt \n",
      "        Maaş: 10000 \n",
      "        Departman: Bilişim\n",
      "        \n",
      "        \n"
     ]
    }
   ],
   "source": [
    "yönetici.bilgileriGöster()"
   ]
  },
  {
   "cell_type": "code",
   "execution_count": 11,
   "metadata": {},
   "outputs": [
    {
     "data": {
      "text/plain": [
       "['__class__',\n",
       " '__delattr__',\n",
       " '__dict__',\n",
       " '__dir__',\n",
       " '__doc__',\n",
       " '__eq__',\n",
       " '__format__',\n",
       " '__ge__',\n",
       " '__getattribute__',\n",
       " '__gt__',\n",
       " '__hash__',\n",
       " '__init__',\n",
       " '__init_subclass__',\n",
       " '__le__',\n",
       " '__lt__',\n",
       " '__module__',\n",
       " '__ne__',\n",
       " '__new__',\n",
       " '__reduce__',\n",
       " '__reduce_ex__',\n",
       " '__repr__',\n",
       " '__setattr__',\n",
       " '__sizeof__',\n",
       " '__str__',\n",
       " '__subclasshook__',\n",
       " '__weakref__',\n",
       " 'bilgileriGöster',\n",
       " 'departman',\n",
       " 'departmanDegistir',\n",
       " 'isim',\n",
       " 'maaş']"
      ]
     },
     "execution_count": 11,
     "metadata": {},
     "output_type": "execute_result"
    }
   ],
   "source": [
    "dir(yönetici)"
   ]
  },
  {
   "cell_type": "code",
   "execution_count": 12,
   "metadata": {},
   "outputs": [],
   "source": [
    "class Yönetici(Çalışan):\n",
    "    def zamYap(self,miktar):\n",
    "        self.maaş += miktar\n",
    "    "
   ]
  },
  {
   "cell_type": "code",
   "execution_count": 13,
   "metadata": {},
   "outputs": [
    {
     "name": "stdout",
     "output_type": "stream",
     "text": [
      "Çalışan sınıfının init fonksiyonu\n"
     ]
    }
   ],
   "source": [
    "yönetici = Yönetici(\"Can\",1500,\"Elektrik\")"
   ]
  },
  {
   "cell_type": "code",
   "execution_count": 14,
   "metadata": {},
   "outputs": [],
   "source": [
    "yönetici.zamYap(500)"
   ]
  },
  {
   "cell_type": "code",
   "execution_count": 15,
   "metadata": {},
   "outputs": [
    {
     "name": "stdout",
     "output_type": "stream",
     "text": [
      "\n",
      "        Yazılımcının özellikleri:\n",
      "        \n",
      "        İsim: Can \n",
      "        Maaş: 2000 \n",
      "        Departman: Elektrik\n",
      "        \n",
      "        \n"
     ]
    }
   ],
   "source": [
    "yönetici.bilgileriGöster()"
   ]
  },
  {
   "cell_type": "code",
   "execution_count": 16,
   "metadata": {},
   "outputs": [],
   "source": [
    "class Çalışan():\n",
    "    def __init__(self,isim,maaş,departman):\n",
    "        print(\"Çalışan sınıfının init fonksiyonu\")\n",
    "        \n",
    "        self.isim = isim\n",
    "        self.maaş=maaş\n",
    "        self.departman=departman\n",
    "    def bilgileriGöster(self):\n",
    "        print(\"\"\"\n",
    "        Yazılımcının özellikleri:\n",
    "        \n",
    "        İsim: {} \n",
    "        Maaş: {} \n",
    "        Departman: {}\n",
    "        \n",
    "        \"\"\".format(self.isim,self.maaş,self.departman))\n",
    "    def departmanDegistir(self,yeni_departman):\n",
    "        self.departman = yeni_departman\n",
    "        "
   ]
  },
  {
   "cell_type": "code",
   "execution_count": 24,
   "metadata": {},
   "outputs": [],
   "source": [
    "class Yönetici(Çalışan):\n",
    "    def __init__(self,isim,maaş,departman,kişi_sayısı):\n",
    "        print(\"Yönetici  sınıfının init fonksiyonu\")\n",
    "        \n",
    "        self.isim = isim\n",
    "        self.maaş=maaş\n",
    "        self.departman=departman\n",
    "        self.kişi_sayısı=kişi_sayısı\n",
    "    def zamYap(self,miktar):\n",
    "        self.maaş += miktar\n",
    "    def bilgileriGöster(self):\n",
    "        print(\"\"\"\n",
    "        Yazılımcının özellikleri:\n",
    "        \n",
    "        İsim: {} \n",
    "        Maaş: {} \n",
    "        Departman: {}\n",
    "        Sorumlu Kişi Sayısı:{}\n",
    "        \n",
    "        \"\"\".format(self.isim,self.maaş,self.departman,self.kişi_sayısı))"
   ]
  },
  {
   "cell_type": "code",
   "execution_count": 25,
   "metadata": {},
   "outputs": [
    {
     "name": "stdout",
     "output_type": "stream",
     "text": [
      "Yönetici  sınıfının init fonksiyonu\n"
     ]
    }
   ],
   "source": [
    "yönetici = Yönetici(\"Can\",1,\"Yazılım\",10)"
   ]
  },
  {
   "cell_type": "code",
   "execution_count": 26,
   "metadata": {},
   "outputs": [
    {
     "name": "stdout",
     "output_type": "stream",
     "text": [
      "\n",
      "        Yazılımcının özellikleri:\n",
      "        \n",
      "        İsim: Can \n",
      "        Maaş: 1 \n",
      "        Departman: Yazılım\n",
      "        Sorumlu Kişi Sayısı:10\n",
      "        \n",
      "        \n"
     ]
    }
   ],
   "source": [
    "yönetici.bilgileriGöster()"
   ]
  },
  {
   "cell_type": "code",
   "execution_count": 27,
   "metadata": {},
   "outputs": [],
   "source": [
    "class Çalışan():\n",
    "    def __init__(self,isim,maaş,departman):\n",
    "        print(\"Çalışan sınıfının init fonksiyonu\")\n",
    "        \n",
    "        self.isim = isim\n",
    "        self.maaş=maaş\n",
    "        self.departman=departman\n",
    "    def bilgileriGöster(self):\n",
    "        print(\"\"\"\n",
    "        Yazılımcının özellikleri:\n",
    "        \n",
    "        İsim: {} \n",
    "        Maaş: {} \n",
    "        Departman: {}\n",
    "        \n",
    "        \"\"\".format(self.isim,self.maaş,self.departman))\n",
    "    def departmanDegistir(self,yeni_departman):\n",
    "        self.departman = yeni_departman"
   ]
  },
  {
   "cell_type": "code",
   "execution_count": 30,
   "metadata": {},
   "outputs": [],
   "source": [
    "class Yönetici(Çalışan):\n",
    "    def __init__(self,isim,maaş,departman,kişi_sayısı):\n",
    "        \n",
    "        super().__init__(isim,maaş,departman) \n",
    "        print(\"Yönetici  sınıfının init fonksiyonu\")\n",
    "        self.kişi_sayısı=kişi_sayısı\n",
    "    \n",
    "    def zamYap(self,miktar):\n",
    "        self.maaş += miktar\n",
    "    def bilgileriGöster(self):\n",
    "        print(\"\"\"\n",
    "        Yazılımcının özellikleri:\n",
    "        \n",
    "        İsim: {} \n",
    "        Maaş: {} \n",
    "        Departman: {}\n",
    "        Sorumlu Kişi Sayısı:{}\n",
    "        \n",
    "        \"\"\".format(self.isim,self.maaş,self.departman,self.kişi_sayısı))"
   ]
  },
  {
   "cell_type": "code",
   "execution_count": 31,
   "metadata": {},
   "outputs": [
    {
     "name": "stdout",
     "output_type": "stream",
     "text": [
      "Çalışan sınıfının init fonksiyonu\n",
      "Yönetici  sınıfının init fonksiyonu\n"
     ]
    }
   ],
   "source": [
    "yönetici = Yönetici(\"Cankurt\",2,\"Bilişim\",5)"
   ]
  },
  {
   "cell_type": "code",
   "execution_count": 32,
   "metadata": {},
   "outputs": [
    {
     "data": {
      "text/plain": [
       "<bound method Yönetici.bilgileriGöster of <__main__.Yönetici object at 0x000001D5780B37C0>>"
      ]
     },
     "execution_count": 32,
     "metadata": {},
     "output_type": "execute_result"
    }
   ],
   "source": [
    "yönetici.bilgileriGöster"
   ]
  },
  {
   "cell_type": "code",
   "execution_count": 33,
   "metadata": {},
   "outputs": [
    {
     "name": "stdout",
     "output_type": "stream",
     "text": [
      "\n",
      "        Yazılımcının özellikleri:\n",
      "        \n",
      "        İsim: Cankurt \n",
      "        Maaş: 2 \n",
      "        Departman: Bilişim\n",
      "        Sorumlu Kişi Sayısı:5\n",
      "        \n",
      "        \n"
     ]
    }
   ],
   "source": [
    "yönetici.bilgileriGöster()"
   ]
  },
  {
   "cell_type": "code",
   "execution_count": 35,
   "metadata": {},
   "outputs": [
    {
     "ename": "TypeError",
     "evalue": "descriptor '__init__' requires a 'super' object but received a 'str'",
     "output_type": "error",
     "traceback": [
      "\u001b[1;31m---------------------------------------------------------------------------\u001b[0m",
      "\u001b[1;31mTypeError\u001b[0m                                 Traceback (most recent call last)",
      "\u001b[1;32m<ipython-input-35-a0dd1caccf71>\u001b[0m in \u001b[0;36m<module>\u001b[1;34m\u001b[0m\n\u001b[0;32m     28\u001b[0m \u001b[1;33m\u001b[0m\u001b[0m\n\u001b[0;32m     29\u001b[0m \u001b[0mhayvan\u001b[0m \u001b[1;33m=\u001b[0m \u001b[0mHayvan\u001b[0m\u001b[1;33m(\u001b[0m\u001b[1;34m\"At\"\u001b[0m\u001b[1;33m,\u001b[0m\u001b[1;36m4\u001b[0m\u001b[1;33m,\u001b[0m\u001b[1;34m\"Beyaz\"\u001b[0m\u001b[1;33m)\u001b[0m\u001b[1;33m\u001b[0m\u001b[1;33m\u001b[0m\u001b[0m\n\u001b[1;32m---> 30\u001b[1;33m \u001b[0mat\u001b[0m \u001b[1;33m=\u001b[0m \u001b[0mAt\u001b[0m\u001b[1;33m(\u001b[0m\u001b[1;34m\"At\"\u001b[0m\u001b[1;33m,\u001b[0m\u001b[1;36m4\u001b[0m\u001b[1;33m,\u001b[0m\u001b[1;34m\"siyah\"\u001b[0m\u001b[1;33m,\u001b[0m\u001b[1;34m\"deli\"\u001b[0m\u001b[1;33m)\u001b[0m\u001b[1;33m\u001b[0m\u001b[1;33m\u001b[0m\u001b[0m\n\u001b[0m\u001b[0;32m     31\u001b[0m \u001b[0mKuş\u001b[0m \u001b[1;33m=\u001b[0m \u001b[0mKuş\u001b[0m\u001b[1;33m(\u001b[0m\u001b[1;34m\"Kuş\"\u001b[0m\u001b[1;33m,\u001b[0m\u001b[1;36m2\u001b[0m\u001b[1;33m,\u001b[0m\u001b[1;34m\"sarı\"\u001b[0m\u001b[1;33m,\u001b[0m\u001b[1;34m\"muhabbet\"\u001b[0m\u001b[1;33m)\u001b[0m\u001b[1;33m\u001b[0m\u001b[1;33m\u001b[0m\u001b[0m\n\u001b[0;32m     32\u001b[0m \u001b[0mköpek\u001b[0m \u001b[1;33m=\u001b[0m \u001b[0mKöpek\u001b[0m\u001b[1;33m(\u001b[0m\u001b[1;34m\"Köpek\"\u001b[0m\u001b[1;33m,\u001b[0m\u001b[1;36m4\u001b[0m\u001b[1;33m,\u001b[0m\u001b[1;34m\"gri\"\u001b[0m\u001b[1;33m,\u001b[0m\u001b[1;34m\"pitbull\"\u001b[0m\u001b[1;33m)\u001b[0m\u001b[1;33m\u001b[0m\u001b[1;33m\u001b[0m\u001b[0m\n",
      "\u001b[1;32m<ipython-input-35-a0dd1caccf71>\u001b[0m in \u001b[0;36m__init__\u001b[1;34m(self, tür, ayak, renk, cins)\u001b[0m\n\u001b[0;32m     21\u001b[0m \u001b[1;32mclass\u001b[0m \u001b[0mAt\u001b[0m\u001b[1;33m(\u001b[0m\u001b[0mHayvan\u001b[0m\u001b[1;33m)\u001b[0m\u001b[1;33m:\u001b[0m\u001b[1;33m\u001b[0m\u001b[1;33m\u001b[0m\u001b[0m\n\u001b[0;32m     22\u001b[0m     \u001b[1;32mdef\u001b[0m \u001b[0m__init__\u001b[0m\u001b[1;33m(\u001b[0m\u001b[0mself\u001b[0m\u001b[1;33m,\u001b[0m\u001b[0mtür\u001b[0m\u001b[1;33m,\u001b[0m\u001b[0mayak\u001b[0m\u001b[1;33m,\u001b[0m\u001b[0mrenk\u001b[0m\u001b[1;33m,\u001b[0m\u001b[0mcins\u001b[0m\u001b[1;33m)\u001b[0m\u001b[1;33m:\u001b[0m\u001b[1;33m\u001b[0m\u001b[1;33m\u001b[0m\u001b[0m\n\u001b[1;32m---> 23\u001b[1;33m         \u001b[0msuper\u001b[0m\u001b[1;33m.\u001b[0m\u001b[0m__init__\u001b[0m\u001b[1;33m(\u001b[0m\u001b[0mtür\u001b[0m\u001b[1;33m,\u001b[0m\u001b[0mayak\u001b[0m\u001b[1;33m,\u001b[0m\u001b[0mrenk\u001b[0m\u001b[1;33m)\u001b[0m\u001b[1;33m\u001b[0m\u001b[1;33m\u001b[0m\u001b[0m\n\u001b[0m\u001b[0;32m     24\u001b[0m         \u001b[0mself\u001b[0m\u001b[1;33m.\u001b[0m\u001b[0mcins\u001b[0m\u001b[1;33m=\u001b[0m\u001b[0mcins\u001b[0m\u001b[1;33m\u001b[0m\u001b[1;33m\u001b[0m\u001b[0m\n\u001b[0;32m     25\u001b[0m     \u001b[1;32mdef\u001b[0m \u001b[0mbagır\u001b[0m\u001b[1;33m(\u001b[0m\u001b[0mself\u001b[0m\u001b[1;33m)\u001b[0m\u001b[1;33m:\u001b[0m\u001b[1;33m\u001b[0m\u001b[1;33m\u001b[0m\u001b[0m\n",
      "\u001b[1;31mTypeError\u001b[0m: descriptor '__init__' requires a 'super' object but received a 'str'"
     ]
    }
   ],
   "source": [
    "\n",
    "class Hayvan():\n",
    "    def __init__(self,tür,ayak,renk):\n",
    "        self.tür=tür\n",
    "        self.ayak=ayak\n",
    "        self.renk=renk\n",
    "\n",
    "class Köpek(Hayvan):\n",
    "    def __init__(self,tür,ayak,renk,cins):\n",
    "        super.__init__(tür,ayak,renk)\n",
    "        self.cins=cins\n",
    "    def bagır(self):\n",
    "        print(\"Hav Hav!\")\n",
    "\n",
    "class Kuş(Hayvan):\n",
    "    def __init__(self,tür,ayak,renk,cins):\n",
    "        super.__init__(tür,ayak,renk)\n",
    "        self.cins=cins\n",
    "    def bagır(self):\n",
    "        print(\"Cik Cik!\")\n",
    "\n",
    "class At(Hayvan):\n",
    "    def __init__(self,tür,ayak,renk,cins):\n",
    "        super.__init__(tür,ayak,renk)\n",
    "        self.cins=cins\n",
    "    def bagır(self):\n",
    "        print(\"İnnnhaaa!\")\n",
    "\n",
    "\n",
    "hayvan = Hayvan(\"At\",4,\"Beyaz\")\n",
    "at = At(\"At\",4,\"siyah\",\"deli\")\n",
    "Kuş = Kuş(\"Kuş\",2,\"sarı\",\"muhabbet\")\n",
    "köpek = Köpek(\"Köpek\",4,\"gri\",\"pitbull\")\n"
   ]
  },
  {
   "cell_type": "code",
   "execution_count": 36,
   "metadata": {},
   "outputs": [],
   "source": [
    "\n",
    "class Hayvan():\n",
    "    def __init__(self,tür,ayak,renk):\n",
    "        self.tür=tür\n",
    "        self.ayak=ayak\n",
    "        self.renk=renk\n",
    "\n",
    "class Köpek(Hayvan):\n",
    "    def __init__(self,tür,ayak,renk,cins):\n",
    "        super.__init__(tür,ayak,renk)\n",
    "        self.cins=cins\n",
    "    def bagır(self):\n",
    "        print(\"Hav Hav!\")\n",
    "\n",
    "class Kuş(Hayvan):\n",
    "    def __init__(self,tür,ayak,renk,cins):\n",
    "        super.__init__(tür,ayak,renk)\n",
    "        self.cins=cins\n",
    "    def bagır(self):\n",
    "        print(\"Cik Cik!\")\n",
    "\n",
    "class At(Hayvan):\n",
    "    def __init__(self,tür,ayak,renk,cins):\n",
    "        super.__init__(tür,ayak,renk)\n",
    "        self.cins=cins\n",
    "    def bagır(self):\n",
    "        print(\"İnnnhaaa!\")"
   ]
  },
  {
   "cell_type": "code",
   "execution_count": 37,
   "metadata": {},
   "outputs": [],
   "source": [
    "hayvan = Hayvan(\"at\",4,\"sarı\")"
   ]
  },
  {
   "cell_type": "code",
   "execution_count": 38,
   "metadata": {},
   "outputs": [
    {
     "data": {
      "text/plain": [
       "'sarı'"
      ]
     },
     "execution_count": 38,
     "metadata": {},
     "output_type": "execute_result"
    }
   ],
   "source": [
    "hayvan.renk"
   ]
  },
  {
   "cell_type": "code",
   "execution_count": null,
   "metadata": {},
   "outputs": [],
   "source": []
  }
 ],
 "metadata": {
  "kernelspec": {
   "display_name": "Python 3",
   "language": "python",
   "name": "python3"
  },
  "language_info": {
   "codemirror_mode": {
    "name": "ipython",
    "version": 3
   },
   "file_extension": ".py",
   "mimetype": "text/x-python",
   "name": "python",
   "nbconvert_exporter": "python",
   "pygments_lexer": "ipython3",
   "version": "3.8.3"
  }
 },
 "nbformat": 4,
 "nbformat_minor": 4
}
